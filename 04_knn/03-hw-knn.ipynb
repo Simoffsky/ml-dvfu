{
  "cells": [
    {
      "cell_type": "markdown",
      "metadata": {
        "colab_type": "text",
        "id": "6E3ZEkkwRk1J"
      },
      "source": [
        "# 6.1 Классификация.Соискатели\n",
        "\n",
        "1. Скачайте этот ноутбук к себе.\n",
        "2. Заполните пропущенные ячейки, отвечая на заданные вопросы. Там должен быть код! (если не сказано обратное)\n",
        "3. Отправьте результат нам\n",
        "\n",
        "### Полезная литература\n",
        "\n",
        "- [ODS - классификация](https://habrahabr.ru/company/ods/blog/322534/)\n",
        "- [Коллаборативная фильтрация - рекомендательная система](https://ru.wikipedia.org/wiki/%D0%9A%D0%BE%D0%BB%D0%BB%D0%B0%D0%B1%D0%BE%D1%80%D0%B0%D1%82%D0%B8%D0%B2%D0%BD%D0%B0%D1%8F_%D1%84%D0%B8%D0%BB%D1%8C%D1%82%D1%80%D0%B0%D1%86%D0%B8%D1%8F)\n",
        "- [Метрики расстояний - косинусная, минковского, проклятье размерности ](http://www.machinelearning.ru/wiki/images/9/9a/Sem1_knn.pdf)\n",
        "- [Offtop: метрики качества рекомендательных систем](https://habrahabr.ru/company/dca/blog/281066/)"
      ]
    },
    {
      "cell_type": "markdown",
      "metadata": {
        "colab_type": "text",
        "id": "2SjTJ7fkRk1N"
      },
      "source": [
        "## kNN - ближайшие соседи (15 баллов)\n",
        "\n",
        "Рассмотрим задачу из соревнования [Amazon Employee Access Challenge](https://www.kaggle.com/c/amazon-employee-access-challenge).\n",
        "\n",
        "В данной задаче предлагается предсказать, будет ли одобрен запрос сотрудника на получение доступа к тому или иному ресурсу. Все признаки являются категориальными."
      ]
    },
    {
      "cell_type": "code",
      "execution_count": 64,
      "metadata": {
        "colab": {},
        "colab_type": "code",
        "id": "Pq1-n6enRk1Q"
      },
      "outputs": [],
      "source": [
        "%matplotlib inline\n",
        "import pandas as pd\n",
        "import numpy as np\n",
        "from matplotlib import pyplot as plt\n",
        "import seaborn as sns\n",
        "from sklearn.model_selection import train_test_split, KFold, cross_val_score\n",
        "from sklearn.neighbors import KNeighborsClassifier\n",
        "from sklearn.metrics import classification_report, confusion_matrix, f1_score\n",
        "from sklearn.preprocessing import scale"
      ]
    },
    {
      "cell_type": "code",
      "execution_count": 65,
      "metadata": {
        "colab": {
          "base_uri": "https://localhost:8080/",
          "height": 204
        },
        "colab_type": "code",
        "id": "1dag_dZ9Rk1c",
        "outputId": "d68ee7d4-9b79-47a9-d255-d4e77dcf4532"
      },
      "outputs": [
        {
          "data": {
            "text/html": [
              "<div>\n",
              "<style scoped>\n",
              "    .dataframe tbody tr th:only-of-type {\n",
              "        vertical-align: middle;\n",
              "    }\n",
              "\n",
              "    .dataframe tbody tr th {\n",
              "        vertical-align: top;\n",
              "    }\n",
              "\n",
              "    .dataframe thead th {\n",
              "        text-align: right;\n",
              "    }\n",
              "</style>\n",
              "<table border=\"1\" class=\"dataframe\">\n",
              "  <thead>\n",
              "    <tr style=\"text-align: right;\">\n",
              "      <th></th>\n",
              "      <th>ACTION</th>\n",
              "      <th>RESOURCE</th>\n",
              "      <th>MGR_ID</th>\n",
              "      <th>ROLE_ROLLUP_1</th>\n",
              "      <th>ROLE_ROLLUP_2</th>\n",
              "      <th>ROLE_DEPTNAME</th>\n",
              "      <th>ROLE_TITLE</th>\n",
              "      <th>ROLE_FAMILY_DESC</th>\n",
              "      <th>ROLE_FAMILY</th>\n",
              "      <th>ROLE_CODE</th>\n",
              "    </tr>\n",
              "  </thead>\n",
              "  <tbody>\n",
              "    <tr>\n",
              "      <th>0</th>\n",
              "      <td>1</td>\n",
              "      <td>39353</td>\n",
              "      <td>85475</td>\n",
              "      <td>117961</td>\n",
              "      <td>118300</td>\n",
              "      <td>123472</td>\n",
              "      <td>117905</td>\n",
              "      <td>117906</td>\n",
              "      <td>290919</td>\n",
              "      <td>117908</td>\n",
              "    </tr>\n",
              "    <tr>\n",
              "      <th>1</th>\n",
              "      <td>1</td>\n",
              "      <td>17183</td>\n",
              "      <td>1540</td>\n",
              "      <td>117961</td>\n",
              "      <td>118343</td>\n",
              "      <td>123125</td>\n",
              "      <td>118536</td>\n",
              "      <td>118536</td>\n",
              "      <td>308574</td>\n",
              "      <td>118539</td>\n",
              "    </tr>\n",
              "    <tr>\n",
              "      <th>2</th>\n",
              "      <td>1</td>\n",
              "      <td>36724</td>\n",
              "      <td>14457</td>\n",
              "      <td>118219</td>\n",
              "      <td>118220</td>\n",
              "      <td>117884</td>\n",
              "      <td>117879</td>\n",
              "      <td>267952</td>\n",
              "      <td>19721</td>\n",
              "      <td>117880</td>\n",
              "    </tr>\n",
              "    <tr>\n",
              "      <th>3</th>\n",
              "      <td>1</td>\n",
              "      <td>36135</td>\n",
              "      <td>5396</td>\n",
              "      <td>117961</td>\n",
              "      <td>118343</td>\n",
              "      <td>119993</td>\n",
              "      <td>118321</td>\n",
              "      <td>240983</td>\n",
              "      <td>290919</td>\n",
              "      <td>118322</td>\n",
              "    </tr>\n",
              "    <tr>\n",
              "      <th>4</th>\n",
              "      <td>1</td>\n",
              "      <td>42680</td>\n",
              "      <td>5905</td>\n",
              "      <td>117929</td>\n",
              "      <td>117930</td>\n",
              "      <td>119569</td>\n",
              "      <td>119323</td>\n",
              "      <td>123932</td>\n",
              "      <td>19793</td>\n",
              "      <td>119325</td>\n",
              "    </tr>\n",
              "  </tbody>\n",
              "</table>\n",
              "</div>"
            ],
            "text/plain": [
              "   ACTION  RESOURCE  MGR_ID  ROLE_ROLLUP_1  ROLE_ROLLUP_2  ROLE_DEPTNAME  \\\n",
              "0       1     39353   85475         117961         118300         123472   \n",
              "1       1     17183    1540         117961         118343         123125   \n",
              "2       1     36724   14457         118219         118220         117884   \n",
              "3       1     36135    5396         117961         118343         119993   \n",
              "4       1     42680    5905         117929         117930         119569   \n",
              "\n",
              "   ROLE_TITLE  ROLE_FAMILY_DESC  ROLE_FAMILY  ROLE_CODE  \n",
              "0      117905            117906       290919     117908  \n",
              "1      118536            118536       308574     118539  \n",
              "2      117879            267952        19721     117880  \n",
              "3      118321            240983       290919     118322  \n",
              "4      119323            123932        19793     119325  "
            ]
          },
          "execution_count": 65,
          "metadata": {},
          "output_type": "execute_result"
        }
      ],
      "source": [
        "df = pd.read_csv('../data/amazon.csv.gz')\n",
        "df.head()\n",
        "# ACTION - это целевой признак"
      ]
    },
    {
      "cell_type": "code",
      "execution_count": 66,
      "metadata": {},
      "outputs": [
        {
          "name": "stdout",
          "output_type": "stream",
          "text": [
            "<class 'pandas.core.frame.DataFrame'>\n",
            "RangeIndex: 32769 entries, 0 to 32768\n",
            "Data columns (total 10 columns):\n",
            " #   Column            Non-Null Count  Dtype\n",
            "---  ------            --------------  -----\n",
            " 0   ACTION            32769 non-null  int64\n",
            " 1   RESOURCE          32769 non-null  int64\n",
            " 2   MGR_ID            32769 non-null  int64\n",
            " 3   ROLE_ROLLUP_1     32769 non-null  int64\n",
            " 4   ROLE_ROLLUP_2     32769 non-null  int64\n",
            " 5   ROLE_DEPTNAME     32769 non-null  int64\n",
            " 6   ROLE_TITLE        32769 non-null  int64\n",
            " 7   ROLE_FAMILY_DESC  32769 non-null  int64\n",
            " 8   ROLE_FAMILY       32769 non-null  int64\n",
            " 9   ROLE_CODE         32769 non-null  int64\n",
            "dtypes: int64(10)\n",
            "memory usage: 2.5 MB\n"
          ]
        }
      ],
      "source": [
        "df.info()"
      ]
    },
    {
      "cell_type": "markdown",
      "metadata": {
        "colab_type": "text",
        "id": "PZ85weZTRk1n"
      },
      "source": [
        "Обратим внимание, что выборка не сбалансированная. В качестве метрики качества будем использовать [f1-score](https://en.wikipedia.org/wiki/F1_score). \n",
        "$$F_1 = 2 \\cdot \\frac{\\mathrm{precision} \\cdot \\mathrm{recall}}{\\mathrm{precision} + \\mathrm{recall}}$$\n",
        "\n",
        "$$precision = \\frac{TP}{TP+FP}$$\n",
        "\n",
        "$$recall = \\frac{TP}{TP+FN}$$"
      ]
    },
    {
      "cell_type": "code",
      "execution_count": 67,
      "metadata": {
        "colab": {
          "base_uri": "https://localhost:8080/",
          "height": 313
        },
        "colab_type": "code",
        "id": "geYOEvR5Rk1p",
        "outputId": "a4750a51-1c7d-4a82-d931-c13a8931a061"
      },
      "outputs": [
        {
          "name": "stdout",
          "output_type": "stream",
          "text": [
            "0.9421099209618847\n"
          ]
        }
      ],
      "source": [
        "print(df['ACTION'].mean())"
      ]
    },
    {
      "cell_type": "code",
      "execution_count": 68,
      "metadata": {
        "colab": {
          "base_uri": "https://localhost:8080/",
          "height": 187
        },
        "colab_type": "code",
        "id": "0esSU_9iRk1v",
        "outputId": "f97c558c-664a-4a65-b707-ff0e963cb3e3"
      },
      "outputs": [
        {
          "name": "stdout",
          "output_type": "stream",
          "text": [
            "ACTION 2\n",
            "RESOURCE 7518\n",
            "MGR_ID 4243\n",
            "ROLE_ROLLUP_1 128\n",
            "ROLE_ROLLUP_2 177\n",
            "ROLE_DEPTNAME 449\n",
            "ROLE_TITLE 343\n",
            "ROLE_FAMILY_DESC 2358\n",
            "ROLE_FAMILY 67\n",
            "ROLE_CODE 343\n"
          ]
        }
      ],
      "source": [
        "# число значений у признаков\n",
        "for col_name in df.columns:\n",
        "    print(col_name, len(df[col_name].unique()))"
      ]
    },
    {
      "cell_type": "code",
      "execution_count": 69,
      "metadata": {
        "colab": {},
        "colab_type": "code",
        "id": "grv_l7aYRk12"
      },
      "outputs": [],
      "source": [
        "X = df.drop(['ACTION'], axis=1)\n",
        "y = df['ACTION']\n",
        "X_train, X_test, y_train, y_test = train_test_split(X, y, random_state=42, test_size=0.8)"
      ]
    },
    {
      "cell_type": "markdown",
      "metadata": {
        "colab_type": "text",
        "id": "WF-Sqou3Rk19"
      },
      "source": [
        "# Baseline (4 балла)\n",
        "\n",
        "Сразу проверим как ведет себя kNN на неподготовленных данных и без тюнинга. Зафиксируйте `n_neighbors=5`, `p=2`. \n",
        "\n",
        "- создайте экземпляр `KNeighborsClassifier` с указанными параметрами, обучите его методом `fit` и предскажите значения `predict` для треничровчных данных `X_test`.\n",
        "- постройте отчет классификации (classification_report)\n",
        "- постройте confusion matrix и нарисуйте heatmap\n",
        "\n",
        "Обратите внимание на confusion matrix. Какой вывод вы можете сделать из неё? Вспомните лекцию и значение ошибок 1 и 2 рода."
      ]
    },
    {
      "cell_type": "code",
      "execution_count": 70,
      "metadata": {
        "colab": {},
        "colab_type": "code",
        "id": "b0VOmw-gRk2B"
      },
      "outputs": [],
      "source": [
        "knn = KNeighborsClassifier(n_neighbors=5, p=2)\n",
        "knn.fit(X_train, y_train)\n",
        "y_pred = knn.predict(X_test)"
      ]
    },
    {
      "cell_type": "code",
      "execution_count": 71,
      "metadata": {},
      "outputs": [
        {
          "data": {
            "text/plain": [
              "'              precision    recall  f1-score   support\\n\\n           0       0.22      0.03      0.05      1534\\n           1       0.94      0.99      0.97     24682\\n\\n    accuracy                           0.94     26216\\n   macro avg       0.58      0.51      0.51     26216\\nweighted avg       0.90      0.94      0.91     26216\\n'"
            ]
          },
          "metadata": {},
          "output_type": "display_data"
        }
      ],
      "source": [
        "display(classification_report(y_test, y_pred))"
      ]
    },
    {
      "cell_type": "code",
      "execution_count": 72,
      "metadata": {},
      "outputs": [
        {
          "data": {
            "image/png": "[encoded data removed]",
            "text/plain": [
              "<Figure size 640x480 with 2 Axes>"
            ]
          },
          "metadata": {},
          "output_type": "display_data"
        }
      ],
      "source": [
        "cm = confusion_matrix(y_test, y_pred)\n",
        "sns.heatmap(cm, annot=True, fmt='d')\n",
        "plt.show()"
      ]
    },
    {
      "cell_type": "markdown",
      "metadata": {
        "colab_type": "text",
        "id": "05W_1YtvRk2I"
      },
      "source": [
        "При фиксированном `n_neighbors=10` проверьте значение метрики на кроссвалидации на 5-фолдах для разных значений `p` из `(1,2,4,6)`. При каком значение `p` метрика достигает максимума?\n",
        "\n",
        "При кроссвалидации у вас будет получаться N разных значений метрики. Выводите среднее значение и стандартное отклонение."
      ]
    },
    {
      "cell_type": "code",
      "execution_count": 73,
      "metadata": {
        "colab": {},
        "colab_type": "code",
        "id": "eO5jV0YBuafJ"
      },
      "outputs": [
        {
          "name": "stdout",
          "output_type": "stream",
          "text": [
            "p=1: F1 = 0.971 ± 0.000\n",
            "p=2: F1 = 0.972 ± 0.000\n",
            "p=4: F1 = 0.971 ± 0.000\n",
            "p=6: F1 = 0.971 ± 0.000\n"
          ]
        }
      ],
      "source": [
        "p_values = [1, 2, 4, 6]\n",
        "for p in p_values:\n",
        "    knn = KNeighborsClassifier(n_neighbors=10, p=p)\n",
        "    scores = cross_val_score(knn, X_train, y_train, cv=5, scoring='f1')\n",
        "    print(f\"p={p}: F1 = {scores.mean():.3f} ± {scores.std():.3f}\")"
      ]
    },
    {
      "cell_type": "markdown",
      "metadata": {},
      "source": [
        "При p=2 получаем максимум по метрике"
      ]
    },
    {
      "cell_type": "markdown",
      "metadata": {
        "colab_type": "text",
        "id": "95FbhY1JRk2S"
      },
      "source": [
        "# Счетчики (6 баллов)\n",
        "\n",
        "Очевидно, что предсказывать лейбл объекта, используя при этом метрический алгоритм на категориальных признаках - это ОЧЕНЬ странная затея. Не удивительно что качество ужасное. Необходимо каким-то образом заменить категориальные признаки вещественными:\n",
        "\n",
        "- OneHotEncoding - это когда для каждого признака создают другие N бинарных признаков, где N - это количество категорий у категориального признака.\n",
        "- Счетчики - об это написано в статье http://blogs.technet.com/b/machinelearning/archive/2015/02/17/big-learning-made-easy-with-counts.aspx.\n",
        "\n",
        "Мы реализуем алгоритм Счетчиков. Его нет в sklearn, поэтому придется реализовать самому. \n",
        "\n",
        "Для каждого категориального признака создайте 3 других признака:\n",
        "1. Число `counts` объектов в обучающей выборке с таким же значением признака.\n",
        "2. Число `successes` объектов первого класса ($y = 1$) в обучающей выборке с таким же значением признака.\n",
        "3. Сглаженное отношение двух предыдущих величин: (`successes` + 1) / (`counts` + 2).\n",
        "\n",
        "Поскольку признаки, содержащие информацию о целевой переменной, могут привести к переобучению, может оказаться полезным сделать *фолдинг*: разбить обучающую выборку на $n$ частей, и для $i$-й части считать `counts` и `successes` по всем остальным частям. Для тестовой выборки используются счетчики, посчитанные по всей обучающей выборке. Реализуйте и такой вариант. Можно использовать $n = 3$.\n",
        "\n",
        "Обучение надо проводить только по новым признакам. Изначальные мы не используем.\n",
        "\n",
        "Счетчики нужно считать по `train`, а в `test` использовать эти же счетчики, иначе счетчики будут содержать информацию о всем датасете что приведет к переобучение!\n",
        "\n",
        "Подсказка - вам нужно для каждой колонки посчитать 2 аггрегации - сумму и количество. Для замены конкретного значения посчитанным используйте функцию apply над датафреймом. Простое решение займет около 10 строк кода."
      ]
    },
    {
      "cell_type": "markdown",
      "metadata": {
        "colab_type": "text",
        "id": "peoX3U3iRk2U"
      },
      "source": [
        "![](http://images6.fanpop.com/image/photos/38600000/taiga-iamyourenemy-38620719-282-160.gif)"
      ]
    },
    {
      "cell_type": "code",
      "execution_count": 74,
      "metadata": {},
      "outputs": [],
      "source": [
        "def add_counter_features(df_train, df_test, y_train, n_folds=3):\n",
        "    data_train = pd.DataFrame(index=df_train.index)\n",
        "    data_test = pd.DataFrame(index=df_test.index)\n",
        "    \n",
        "    for col in df_train.columns:\n",
        "        # Для теста: используем полный train для подсчета\n",
        "        train_counts = df_train[col].value_counts()\n",
        "        train_success = df_train[col].map(y_train.groupby(df_train[col]).sum())\n",
        "        \n",
        "        # Для тестовых данных\n",
        "        counts_test = df_test[col].map(train_counts).fillna(0)\n",
        "        successes_test = df_test[col].map(train_success).fillna(0)\n",
        "        \n",
        "        # Для трейна с фолдингом\n",
        "        fold_size = len(df_train) // n_folds\n",
        "        counts = pd.Series(0, index=df_train.index, dtype=float)\n",
        "        successes = pd.Series(0, index=df_train.index, dtype=float)\n",
        "        \n",
        "        for fold in range(n_folds):\n",
        "            # Разделяем на fold и остальные данные\n",
        "            start = fold * fold_size\n",
        "            end = (fold + 1) * fold_size\n",
        "            mask = np.zeros(len(df_train), dtype=bool)\n",
        "            mask[start:end] = True\n",
        "            \n",
        "            # Считаем counts и successes на остальных фолдах\n",
        "            train_part = df_train[~mask]\n",
        "            y_part = y_train[~mask]\n",
        "            \n",
        "            fold_counts = train_part[col].value_counts()\n",
        "            fold_success = y_part.groupby(train_part[col]).sum()\n",
        "            \n",
        "            counts.loc[mask] = df_train.loc[mask, col].map(fold_counts).fillna(0)\n",
        "            successes.loc[mask] = df_train.loc[mask, col].map(fold_success).fillna(0)\n",
        "        \n",
        "        # Сглаживание\n",
        "        smoothed = (successes + 1) / (counts + 2)\n",
        "        \n",
        "        # Добавляем признаки\n",
        "        data_train[f'{col}_count'] = counts\n",
        "        data_train[f'{col}_success'] = successes\n",
        "        data_train[f'{col}_smoothed'] = smoothed\n",
        "        \n",
        "        data_test[f'{col}_count'] = counts_test\n",
        "        data_test[f'{col}_success'] = successes_test\n",
        "        data_test[f'{col}_smoothed'] = (successes_test + 1) / (counts_test + 2)\n",
        "    \n",
        "    return data_train, data_test\n",
        "\n",
        "X_train_count, X_test_count = add_counter_features(X_train, X_test, y_train)"
      ]
    },
    {
      "cell_type": "markdown",
      "metadata": {
        "colab_type": "text",
        "id": "_LI0_45SRk2b"
      },
      "source": [
        "Проверьте какое качество теперь получается на кроссвалидации для новых данных."
      ]
    },
    {
      "cell_type": "code",
      "execution_count": 75,
      "metadata": {},
      "outputs": [
        {
          "name": "stdout",
          "output_type": "stream",
          "text": [
            "p=2: F1 = 0.970 ± 0.001\n"
          ]
        }
      ],
      "source": [
        "knn = KNeighborsClassifier(n_neighbors=10, p=2)\n",
        "scores = cross_val_score(knn, X_train_count, y_train, cv=5, scoring='f1')\n",
        "print(f\"p={2}: F1 = {scores.mean():.3f} ± {scores.std():.3f}\")"
      ]
    },
    {
      "cell_type": "markdown",
      "metadata": {},
      "source": [
        "- постройте отчет классификации (classification_report)\n",
        "- постройте confusion matrix и нарисуйте heatmap\n",
        "\n",
        "Оцените на сколько улучшилось качество."
      ]
    },
    {
      "cell_type": "code",
      "execution_count": 76,
      "metadata": {},
      "outputs": [
        {
          "name": "stdout",
          "output_type": "stream",
          "text": [
            "              precision    recall  f1-score   support\n",
            "\n",
            "           0       0.56      0.01      0.01      1534\n",
            "           1       0.94      1.00      0.97     24682\n",
            "\n",
            "    accuracy                           0.94     26216\n",
            "   macro avg       0.75      0.50      0.49     26216\n",
            "weighted avg       0.92      0.94      0.91     26216\n",
            "\n"
          ]
        }
      ],
      "source": [
        "# Обучение на новых данных\n",
        "knn = KNeighborsClassifier(n_neighbors=10, p=2)\n",
        "knn.fit(X_train_count, y_train)\n",
        "y_pred_count = knn.predict(X_test_count)\n",
        "\n",
        "print(classification_report(y_test, y_pred_count))"
      ]
    },
    {
      "cell_type": "code",
      "execution_count": 77,
      "metadata": {},
      "outputs": [
        {
          "data": {
            "image/png": "[encoded data removed]",
            "text/plain": [
              "<Figure size 640x480 with 2 Axes>"
            ]
          },
          "metadata": {},
          "output_type": "display_data"
        }
      ],
      "source": [
        "cm = confusion_matrix(y_test, y_pred_count)\n",
        "sns.heatmap(cm, annot=True, fmt='d')\n",
        "plt.xlabel('Predicted')\n",
        "plt.ylabel('True')\n",
        "plt.show()"
      ]
    },
    {
      "cell_type": "markdown",
      "metadata": {},
      "source": [
        "precision для 0 класса стал выше, с 0.03 до 0.56, из-за этого возрасло macro avg с 0.49 до 0.75, остальные метрики без изменений"
      ]
    },
    {
      "cell_type": "markdown",
      "metadata": {
        "colab_type": "text",
        "id": "xr0h7eJeRk2s"
      },
      "source": [
        "# Co-co-co-combo (5 баллов)\n",
        "\n",
        "Добавьте в исходную выборку парные признаки — то есть для каждой пары $(f_i, f_j)$, $i < j$ исходных категориальных признаков добавьте новый категориальный признак $f_{ij}$, значение которого является конкатенацией значений $f_i$ и $f_j$ (желательно через какой-нибудь специальный символ во избежание коллизий). Посчитайте счетчики для этой выборки, найдите качество метода $k$ ближайших соседей с наилучшим $k$ (с фолдингом и без)."
      ]
    },
    {
      "cell_type": "code",
      "execution_count": 78,
      "metadata": {},
      "outputs": [
        {
          "name": "stdout",
          "output_type": "stream",
          "text": [
            "              precision    recall  f1-score   support\n",
            "\n",
            "           0       0.06      0.00      0.00      1534\n",
            "           1       0.94      1.00      0.97     24682\n",
            "\n",
            "    accuracy                           0.94     26216\n",
            "   macro avg       0.50      0.50      0.49     26216\n",
            "weighted avg       0.89      0.94      0.91     26216\n",
            "\n"
          ]
        }
      ],
      "source": [
        "# Создание парных признаков\n",
        "from itertools import combinations\n",
        "\n",
        "df_combo = df.copy()\n",
        "cols = [c for c in df_combo.columns if c != 'ACTION']\n",
        "for i, j in combinations(cols, 2):\n",
        "    df_combo[f'{i}_{j}'] = df_combo[i].astype(str) + '_' + df_combo[j].astype(str)\n",
        "\n",
        "X_combo = df_combo.drop('ACTION', axis=1)\n",
        "y_combo = df_combo['ACTION']\n",
        "X_train_combo, X_test_combo, y_train_combo, y_test_combo = train_test_split(X_combo, y_combo, test_size=0.8, random_state=42)\n",
        "\n",
        "knn = KNeighborsClassifier(n_neighbors=10, p=2)\n",
        "knn.fit(X_train_combo, y_train_combo)\n",
        "y_pred_combo = knn.predict(X_test_combo)\n",
        "\n",
        "print(classification_report(y_test_combo, y_pred_combo))"
      ]
    },
    {
      "cell_type": "code",
      "execution_count": 79,
      "metadata": {},
      "outputs": [
        {
          "name": "stdout",
          "output_type": "stream",
          "text": [
            "Лучшее значение k: 11\n",
            "Лучший F1-score на кросс-валидации: 0.971\n"
          ]
        }
      ],
      "source": [
        "from sklearn.model_selection import GridSearchCV\n",
        "\n",
        "# Параметры для поиска\n",
        "param_grid = {'n_neighbors': [3, 5, 7, 10, 11, 12]}\n",
        "\n",
        "# Поиск по сетке с кросс-валидацией\n",
        "grid_search = GridSearchCV(KNeighborsClassifier(p=2), param_grid, cv=3, scoring='f1')\n",
        "grid_search.fit(X_train_combo, y_train_combo)\n",
        "\n",
        "# Лучший параметр и качество\n",
        "print(f\"Лучшее значение k: {grid_search.best_params_['n_neighbors']}\")\n",
        "print(f\"Лучший F1-score на кросс-валидации: {grid_search.best_score_:.3f}\")\n",
        "\n"
      ]
    },
    {
      "cell_type": "markdown",
      "metadata": {
        "colab_type": "text",
        "id": "jNGOU4pBRk24"
      },
      "source": [
        "- постройте отчет классификации (classification_report)\n",
        "- постройте confusion matrix и нарисуйте heatmap\n",
        "\n",
        "Оцените на сколько улучшилось качество. Не похоже ли это на переобусение?\n",
        "\n",
        "Внимание! Обучение на этом этапе может быть долгим. На i5 16GB кроссвалидация на 5 фолдах заняла 30 минут!"
      ]
    },
    {
      "cell_type": "code",
      "execution_count": 80,
      "metadata": {},
      "outputs": [
        {
          "name": "stdout",
          "output_type": "stream",
          "text": [
            "              precision    recall  f1-score   support\n",
            "\n",
            "           0       0.00      0.00      0.00      1534\n",
            "           1       0.94      1.00      0.97     24682\n",
            "\n",
            "    accuracy                           0.94     26216\n",
            "   macro avg       0.47      0.50      0.48     26216\n",
            "weighted avg       0.89      0.94      0.91     26216\n",
            "\n",
            "F1-score на тестовой выборке: 0.970\n"
          ]
        },
        {
          "name": "stderr",
          "output_type": "stream",
          "text": [
            "d:\\Programs\\Python\\Lib\\site-packages\\sklearn\\metrics\\_classification.py:1565: UndefinedMetricWarning: Precision is ill-defined and being set to 0.0 in labels with no predicted samples. Use `zero_division` parameter to control this behavior.\n",
            "  _warn_prf(average, modifier, f\"{metric.capitalize()} is\", len(result))\n",
            "d:\\Programs\\Python\\Lib\\site-packages\\sklearn\\metrics\\_classification.py:1565: UndefinedMetricWarning: Precision is ill-defined and being set to 0.0 in labels with no predicted samples. Use `zero_division` parameter to control this behavior.\n",
            "  _warn_prf(average, modifier, f\"{metric.capitalize()} is\", len(result))\n",
            "d:\\Programs\\Python\\Lib\\site-packages\\sklearn\\metrics\\_classification.py:1565: UndefinedMetricWarning: Precision is ill-defined and being set to 0.0 in labels with no predicted samples. Use `zero_division` parameter to control this behavior.\n",
            "  _warn_prf(average, modifier, f\"{metric.capitalize()} is\", len(result))\n"
          ]
        }
      ],
      "source": [
        "# Оценка на тестовой выборке с лучшим k\n",
        "best_knn = grid_search.best_estimator_\n",
        "\n",
        "y_pred_combo_cv = best_knn.predict(X_test_combo)\n",
        "print(classification_report(y_test_combo, y_pred_combo_cv))\n",
        "print(f\"F1-score на тестовой выборке: {f1_score(y_test_combo, y_pred_combo_cv):.3f}\")"
      ]
    },
    {
      "cell_type": "code",
      "execution_count": 81,
      "metadata": {},
      "outputs": [
        {
          "data": {
            "image/png": "[encoded data removed]",
            "text/plain": [
              "<Figure size 640x480 with 2 Axes>"
            ]
          },
          "metadata": {},
          "output_type": "display_data"
        }
      ],
      "source": [
        "cm = confusion_matrix(y_test_combo, y_pred_combo_cv)\n",
        "sns.heatmap(cm, annot=True, fmt='d')\n",
        "plt.xlabel('Predicted')\n",
        "plt.ylabel('True')\n",
        "plt.show()"
      ]
    },
    {
      "cell_type": "markdown",
      "metadata": {},
      "source": [
        "**Вывод:** Модель переобучилась и всегда предсказываем класс 1"
      ]
    },
    {
      "cell_type": "markdown",
      "metadata": {
        "colab_type": "text",
        "id": "YfXcVDbhjQLC"
      },
      "source": [
        "# Target encoding\n",
        "Допустим, у нас есть категоральный признак х и целевой у; нужно сгруппировать значения признака х по значениям признака у и посчитать среднее. Затем все значения из х заменяем на среднее по соответствующему у.\n",
        "\n",
        "\n",
        "Подробнее написано в статье: https://maxhalford.github.io/blog/target-encoding/\n"
      ]
    },
    {
      "cell_type": "code",
      "execution_count": 82,
      "metadata": {
        "colab": {},
        "colab_type": "code",
        "id": "DDUvy30ldaKK"
      },
      "outputs": [],
      "source": [
        "df_target = df.copy()\n"
      ]
    },
    {
      "cell_type": "code",
      "execution_count": 83,
      "metadata": {
        "colab": {},
        "colab_type": "code",
        "id": "S9BBzsGdWyJ1"
      },
      "outputs": [],
      "source": [
        "data_target = pd.DataFrame(index=df_target.index)\n",
        "for col_name in df_target.columns:\n",
        "    if col_name == 'ACTION':\n",
        "        continue\n",
        "    mean_encoding = df_target.groupby(col_name)['ACTION'].mean()\n",
        "    \n",
        "    data_target[col_name] = df_target[col_name].map(mean_encoding)"
      ]
    },
    {
      "cell_type": "code",
      "execution_count": 84,
      "metadata": {},
      "outputs": [],
      "source": [
        "# Функция для target encoding\n",
        "def target_encode(train_df, test_df, target):\n",
        "    \"\"\"\n",
        "    Применяет target encoding к указанным столбцам.\n",
        "    \n",
        "    :param train_df: Обучающий набор данных (DataFrame).\n",
        "    :param test_df: Тестовый набор данных (DataFrame).\n",
        "    :param target: Целевая переменная (Series).\n",
        "    :param cols_to_encode: Список столбцов для кодирования.\n",
        "    :return: Закодированные train_df и test_df.\n",
        "    \"\"\"\n",
        "    encoded_train = pd.DataFrame(index=train_df.index)\n",
        "    encoded_test = pd.DataFrame(index=test_df.index)\n",
        "    \n",
        "    global_mean = target.mean()  # Глобальное среднее целевой переменной\n",
        "    \n",
        "    for col in train_df.columns:\n",
        "        if col == \"ACTION\":\n",
        "            continue\n",
        "        # Вычисляем средние значения для каждой категории в train_df\n",
        "        mean_encoding = target.groupby(train_df[col]).mean()\n",
        "        \n",
        "        # Применяем к train_df\n",
        "        encoded_train[col] = train_df[col].map(mean_encoding)\n",
        "        \n",
        "        # Применяем к test_df\n",
        "        encoded_test[col] = test_df[col].map(mean_encoding).fillna(global_mean)\n",
        "    \n",
        "    \n",
        "    return encoded_train, encoded_test\n",
        "\n",
        "\n",
        "# Применяем target encoding\n",
        "X_train_encoded, X_test_encoded = target_encode(X_train, X_test, y_train)\n"
      ]
    },
    {
      "cell_type": "code",
      "execution_count": 85,
      "metadata": {},
      "outputs": [
        {
          "name": "stdout",
          "output_type": "stream",
          "text": [
            "              precision    recall  f1-score   support\n",
            "\n",
            "           0       0.29      0.16      0.20      1534\n",
            "           1       0.95      0.98      0.96     24682\n",
            "\n",
            "    accuracy                           0.93     26216\n",
            "   macro avg       0.62      0.57      0.58     26216\n",
            "weighted avg       0.91      0.93      0.92     26216\n",
            "\n"
          ]
        }
      ],
      "source": [
        "# Обучение на новых данных\n",
        "knn = KNeighborsClassifier(n_neighbors=10, p=2)\n",
        "knn.fit(X_train_encoded, y_train)\n",
        "y_pred_count = knn.predict(X_test_encoded)\n",
        "\n",
        "print(classification_report(y_test, y_pred_count))"
      ]
    },
    {
      "cell_type": "code",
      "execution_count": 86,
      "metadata": {},
      "outputs": [
        {
          "data": {
            "image/png": "[encoded data removed]",
            "text/plain": [
              "<Figure size 640x480 with 2 Axes>"
            ]
          },
          "metadata": {},
          "output_type": "display_data"
        }
      ],
      "source": [
        "cm = confusion_matrix(y_test, y_pred_count)\n",
        "sns.heatmap(cm, annot=True, fmt='d')\n",
        "plt.xlabel('Predicted')\n",
        "plt.ylabel('True')\n",
        "plt.show()"
      ]
    },
    {
      "cell_type": "markdown",
      "metadata": {
        "colab_type": "text",
        "id": "XT2_pUdiiaVk"
      },
      "source": [
        "**Вывод:** Target encode показал лучшие метрики"
      ]
    }
  ],
  "metadata": {
    "colab": {
      "collapsed_sections": [],
      "name": "without_code03_hw_classification .ipynb",
      "provenance": []
    },
    "kernelspec": {
      "display_name": "Python 3",
      "language": "python",
      "name": "python3"
    },
    "language_info": {
      "codemirror_mode": {
        "name": "ipython",
        "version": 3
      },
      "file_extension": ".py",
      "mimetype": "text/x-python",
      "name": "python",
      "nbconvert_exporter": "python",
      "pygments_lexer": "ipython3",
      "version": "3.11.5"
    }
  },
  "nbformat": 4,
  "nbformat_minor": 0
}
